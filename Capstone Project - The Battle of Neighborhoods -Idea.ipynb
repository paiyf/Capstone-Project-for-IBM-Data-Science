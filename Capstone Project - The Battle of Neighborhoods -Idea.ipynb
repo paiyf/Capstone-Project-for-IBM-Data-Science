{
 "cells": [
  {
   "cell_type": "markdown",
   "metadata": {},
   "source": [
    "##  Select a location for café shop opening in Taichung City, Taiwan\n",
    "\n",
    "### Analyze current café shop distribution in Taichung and try to select a suitable location\n",
    "\n",
    "### Taichung is the top 3 big cities in Taiwan, which is competeitive in food and drinks industry. I plan to analyze c urrent café shop distribution in Taichung around my home. And cluster the shops to different clusters, try to select a location."
   ]
  },
  {
   "cell_type": "code",
   "execution_count": 6,
   "metadata": {},
   "outputs": [
    {
     "name": "stdout",
     "output_type": "stream",
     "text": [
      "Requirement already satisfied: geopy in c:\\users\\user\\anaconda3\\lib\\site-packages (2.1.0)\n",
      "Requirement already satisfied: geographiclib<2,>=1.49 in c:\\users\\user\\anaconda3\\lib\\site-packages (from geopy) (1.50)\n",
      "Requirement already satisfied: folium==0.5.0 in c:\\users\\user\\anaconda3\\lib\\site-packages (0.5.0)\n",
      "Requirement already satisfied: branca in c:\\users\\user\\anaconda3\\lib\\site-packages (from folium==0.5.0) (0.4.2)\n",
      "Requirement already satisfied: jinja2 in c:\\users\\user\\anaconda3\\lib\\site-packages (from folium==0.5.0) (2.11.2)\n",
      "Requirement already satisfied: requests in c:\\users\\user\\anaconda3\\lib\\site-packages (from folium==0.5.0) (2.24.0)\n",
      "Requirement already satisfied: six in c:\\users\\user\\anaconda3\\lib\\site-packages (from folium==0.5.0) (1.15.0)\n",
      "Requirement already satisfied: MarkupSafe>=0.23 in c:\\users\\user\\anaconda3\\lib\\site-packages (from jinja2->folium==0.5.0) (1.1.1)\n",
      "Requirement already satisfied: certifi>=2017.4.17 in c:\\users\\user\\anaconda3\\lib\\site-packages (from requests->folium==0.5.0) (2020.6.20)\n",
      "Requirement already satisfied: chardet<4,>=3.0.2 in c:\\users\\user\\anaconda3\\lib\\site-packages (from requests->folium==0.5.0) (3.0.4)\n",
      "Requirement already satisfied: urllib3!=1.25.0,!=1.25.1,<1.26,>=1.21.1 in c:\\users\\user\\anaconda3\\lib\\site-packages (from requests->folium==0.5.0) (1.25.11)\n",
      "Requirement already satisfied: idna<3,>=2.5 in c:\\users\\user\\anaconda3\\lib\\site-packages (from requests->folium==0.5.0) (2.10)\n",
      "Folium installed\n",
      "Libraries imported.\n"
     ]
    }
   ],
   "source": [
    "import requests # library to handle requests\n",
    "import pandas as pd # library for data analsysis\n",
    "import numpy as np # library to handle data in a vectorized manner\n",
    "import random # library for random number generation\n",
    "\n",
    "\n",
    "!pip install geopy\n",
    "from geopy.geocoders import Nominatim # module to convert an address into latitude and longitude values\n",
    "\n",
    "# libraries for displaying images\n",
    "from IPython.display import Image \n",
    "from IPython.core.display import HTML \n",
    "    \n",
    "# tranforming json file into a pandas dataframe library\n",
    "from pandas.io.json import json_normalize\n",
    "\n",
    "\n",
    "! pip install folium==0.5.0\n",
    "import folium # plotting library\n",
    "\n",
    "print('Folium installed')\n",
    "print('Libraries imported.')"
   ]
  },
  {
   "cell_type": "code",
   "execution_count": 7,
   "metadata": {},
   "outputs": [
    {
     "name": "stdout",
     "output_type": "stream",
     "text": [
      "Your credentails:\n",
      "CLIENT_ID: CZTYNXU2GXW1EQJ3F0TVJILHCIHFUFALLZX22JUOLJHINLSE\n",
      "CLIENT_SECRET:XXCDRT0AASH4HV1XGPJ2PPOERZSA1SPWGZJPJ030F1T4QY5V\n"
     ]
    }
   ],
   "source": [
    "CLIENT_ID = 'CZTYNXU2GXW1EQJ3F0TVJILHCIHFUFALLZX22JUOLJHINLSE' # your Foursquare ID\n",
    "CLIENT_SECRET = 'XXCDRT0AASH4HV1XGPJ2PPOERZSA1SPWGZJPJ030F1T4QY5V' # your Foursquare Secret\n",
    "ACCESS_TOKEN = 'TSRSRFVBG3LQQC2S5PUH0L30AQRMTEMYIVMKCLDNDHJLGDSB' # your FourSquare Access Token\n",
    "VERSION = '20180604'\n",
    "LIMIT = 30\n",
    "print('Your credentails:')\n",
    "print('CLIENT_ID: ' + CLIENT_ID)\n",
    "print('CLIENT_SECRET:' + CLIENT_SECRET)"
   ]
  },
  {
   "cell_type": "code",
   "execution_count": 8,
   "metadata": {},
   "outputs": [],
   "source": [
    "#Location near my home\n",
    "latitude=24.150915\n",
    "longitude=120.647743"
   ]
  }
 ],
 "metadata": {
  "kernelspec": {
   "display_name": "Python 3",
   "language": "python",
   "name": "python3"
  },
  "language_info": {
   "codemirror_mode": {
    "name": "ipython",
    "version": 3
   },
   "file_extension": ".py",
   "mimetype": "text/x-python",
   "name": "python",
   "nbconvert_exporter": "python",
   "pygments_lexer": "ipython3",
   "version": "3.8.5"
  }
 },
 "nbformat": 4,
 "nbformat_minor": 4
}
